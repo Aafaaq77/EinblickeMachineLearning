{
  "nbformat": 4,
  "nbformat_minor": 5,
  "metadata": {
    "kernelspec": {
      "display_name": "Python 3",
      "language": "python",
      "name": "python3"
    },
    "language_info": {
      "codemirror_mode": {
        "name": "ipython",
        "version": 3
      },
      "file_extension": ".py",
      "mimetype": "text/x-python",
      "name": "python",
      "nbconvert_exporter": "python",
      "pygments_lexer": "ipython3",
      "version": "3.8.8"
    },
    "colab": {
      "name": "07_intro_scikit_algo.ipynb",
      "provenance": []
    }
  },
  "cells": [
    {
      "cell_type": "code",
      "metadata": {
        "id": "basic-toyota"
      },
      "source": [
        "import numpy as np\n",
        "import pandas as pd \n",
        "import matplotlib.pyplot as plt\n",
        "import seaborn as sns\n",
        "from matplotlib.colors import ListedColormap"
      ],
      "id": "basic-toyota",
      "execution_count": 1,
      "outputs": []
    },
    {
      "cell_type": "markdown",
      "metadata": {
        "id": "consistent-lighting"
      },
      "source": [
        "Wir erstellen einen künstlichen Datensatz"
      ],
      "id": "consistent-lighting"
    },
    {
      "cell_type": "code",
      "metadata": {
        "id": "minute-liability"
      },
      "source": [
        "np.random.seed(5) #1 also interesting\n",
        "X = pd.DataFrame({'var1': np.append(np.ones(10)*1 + np.random.rand(10),np.ones(10)*1.5 + np.random.rand(10)), \n",
        "                  'var2': np.append(np.ones(10)*1 + np.random.rand(10),np.ones(10)*1.5 + np.random.rand(10))})\n",
        "y = pd.DataFrame({'Class': np.append(np.ones(10),np.zeros(10))}).Class"
      ],
      "id": "minute-liability",
      "execution_count": 2,
      "outputs": []
    },
    {
      "cell_type": "markdown",
      "metadata": {
        "id": "handmade-wichita"
      },
      "source": [
        "EDA - Visualisieren der Daten"
      ],
      "id": "handmade-wichita"
    },
    {
      "cell_type": "code",
      "metadata": {
        "id": "rotary-market",
        "outputId": "ad3f855a-5981-4564-bab2-be7eee4480eb",
        "colab": {
          "base_uri": "https://localhost:8080/",
          "height": 296
        }
      },
      "source": [
        "sns.scatterplot(data=X, x='var1', y='var2', hue=y)"
      ],
      "id": "rotary-market",
      "execution_count": 3,
      "outputs": [
        {
          "output_type": "execute_result",
          "data": {
            "text/plain": [
              "<matplotlib.axes._subplots.AxesSubplot at 0x7f4e75aeb4d0>"
            ]
          },
          "metadata": {
            "tags": []
          },
          "execution_count": 3
        },
        {
          "output_type": "display_data",
          "data": {
            "image/png": "[encoded data removed]",
            "text/plain": [
              "<Figure size 432x288 with 1 Axes>"
            ]
          },
          "metadata": {
            "tags": [],
            "needs_background": "light"
          }
        }
      ]
    },
    {
      "cell_type": "markdown",
      "metadata": {
        "id": "impressive-header"
      },
      "source": [
        "scikit-learn einsetzen"
      ],
      "id": "impressive-header"
    },
    {
      "cell_type": "code",
      "metadata": {
        "id": "complimentary-vessel"
      },
      "source": [
        "from sklearn.model_selection import train_test_split"
      ],
      "id": "complimentary-vessel",
      "execution_count": 4,
      "outputs": []
    },
    {
      "cell_type": "code",
      "metadata": {
        "id": "norwegian-first"
      },
      "source": [
        "X_train, X_test, y_train, y_test = train_test_split(X, y, random_state=42, test_size=0.5, stratify=y)"
      ],
      "id": "norwegian-first",
      "execution_count": 5,
      "outputs": []
    },
    {
      "cell_type": "markdown",
      "metadata": {
        "id": "norman-skating"
      },
      "source": [
        "Skalieren der Daten"
      ],
      "id": "norman-skating"
    },
    {
      "cell_type": "code",
      "metadata": {
        "id": "introductory-technology"
      },
      "source": [
        "from sklearn.preprocessing import StandardScaler"
      ],
      "id": "introductory-technology",
      "execution_count": 6,
      "outputs": []
    },
    {
      "cell_type": "code",
      "metadata": {
        "id": "packed-diary"
      },
      "source": [
        "scaler = StandardScaler()"
      ],
      "id": "packed-diary",
      "execution_count": 7,
      "outputs": []
    },
    {
      "cell_type": "code",
      "metadata": {
        "id": "mental-course",
        "outputId": "e0ae0025-1c67-464f-a436-53838497eca0",
        "colab": {
          "base_uri": "https://localhost:8080/"
        }
      },
      "source": [
        "scaler.fit(X_train) #in der fit Funktion nutzen wir NUR die Trainingsdaten"
      ],
      "id": "mental-course",
      "execution_count": 8,
      "outputs": [
        {
          "output_type": "execute_result",
          "data": {
            "text/plain": [
              "StandardScaler(copy=True, with_mean=True, with_std=True)"
            ]
          },
          "metadata": {
            "tags": []
          },
          "execution_count": 8
        }
      ]
    },
    {
      "cell_type": "code",
      "metadata": {
        "id": "stuffed-settle",
        "outputId": "5f7680ed-5f0c-4cda-da6c-52eadf08aa14",
        "colab": {
          "base_uri": "https://localhost:8080/",
          "height": 359
        }
      },
      "source": [
        "X_train"
      ],
      "id": "stuffed-settle",
      "execution_count": 9,
      "outputs": [
        {
          "output_type": "execute_result",
          "data": {
            "text/html": [
              "<div>\n",
              "<style scoped>\n",
              "    .dataframe tbody tr th:only-of-type {\n",
              "        vertical-align: middle;\n",
              "    }\n",
              "\n",
              "    .dataframe tbody tr th {\n",
              "        vertical-align: top;\n",
              "    }\n",
              "\n",
              "    .dataframe thead th {\n",
              "        text-align: right;\n",
              "    }\n",
              "</style>\n",
              "<table border=\"1\" class=\"dataframe\">\n",
              "  <thead>\n",
              "    <tr style=\"text-align: right;\">\n",
              "      <th></th>\n",
              "      <th>var1</th>\n",
              "      <th>var2</th>\n",
              "    </tr>\n",
              "  </thead>\n",
              "  <tbody>\n",
              "    <tr>\n",
              "      <th>3</th>\n",
              "      <td>1.918611</td>\n",
              "      <td>1.253588</td>\n",
              "    </tr>\n",
              "    <tr>\n",
              "      <th>15</th>\n",
              "      <td>1.774086</td>\n",
              "      <td>2.077663</td>\n",
              "    </tr>\n",
              "    <tr>\n",
              "      <th>18</th>\n",
              "      <td>2.128788</td>\n",
              "      <td>2.139795</td>\n",
              "    </tr>\n",
              "    <tr>\n",
              "      <th>1</th>\n",
              "      <td>1.870732</td>\n",
              "      <td>1.265819</td>\n",
              "    </tr>\n",
              "    <tr>\n",
              "      <th>5</th>\n",
              "      <td>1.611744</td>\n",
              "      <td>1.144164</td>\n",
              "    </tr>\n",
              "    <tr>\n",
              "      <th>0</th>\n",
              "      <td>1.221993</td>\n",
              "      <td>1.599929</td>\n",
              "    </tr>\n",
              "    <tr>\n",
              "      <th>10</th>\n",
              "      <td>1.580741</td>\n",
              "      <td>1.524307</td>\n",
              "    </tr>\n",
              "    <tr>\n",
              "      <th>8</th>\n",
              "      <td>1.296801</td>\n",
              "      <td>1.960227</td>\n",
              "    </tr>\n",
              "    <tr>\n",
              "      <th>11</th>\n",
              "      <td>2.238440</td>\n",
              "      <td>1.704556</td>\n",
              "    </tr>\n",
              "    <tr>\n",
              "      <th>17</th>\n",
              "      <td>1.796080</td>\n",
              "      <td>2.015473</td>\n",
              "    </tr>\n",
              "  </tbody>\n",
              "</table>\n",
              "</div>"
            ],
            "text/plain": [
              "        var1      var2\n",
              "3   1.918611  1.253588\n",
              "15  1.774086  2.077663\n",
              "18  2.128788  2.139795\n",
              "1   1.870732  1.265819\n",
              "5   1.611744  1.144164\n",
              "0   1.221993  1.599929\n",
              "10  1.580741  1.524307\n",
              "8   1.296801  1.960227\n",
              "11  2.238440  1.704556\n",
              "17  1.796080  2.015473"
            ]
          },
          "metadata": {
            "tags": []
          },
          "execution_count": 9
        }
      ]
    },
    {
      "cell_type": "code",
      "metadata": {
        "scrolled": true,
        "id": "pacific-presentation"
      },
      "source": [
        "X_train_std = scaler.transform(X_train)"
      ],
      "id": "pacific-presentation",
      "execution_count": 10,
      "outputs": []
    },
    {
      "cell_type": "code",
      "metadata": {
        "id": "mobile-genesis"
      },
      "source": [
        "X_test_std = scaler.transform(X_test)"
      ],
      "id": "mobile-genesis",
      "execution_count": 11,
      "outputs": []
    },
    {
      "cell_type": "code",
      "metadata": {
        "id": "discrete-monday"
      },
      "source": [
        "#output als Dataframe\n",
        "X_train_std = pd.DataFrame(scaler.transform(X_train), index=X_train.index, columns=X_train.columns)"
      ],
      "id": "discrete-monday",
      "execution_count": 12,
      "outputs": []
    },
    {
      "cell_type": "code",
      "metadata": {
        "id": "unexpected-answer"
      },
      "source": [
        "X_test_std = pd.DataFrame(scaler.transform(X_test), index=X_test.index, columns=X_test.columns)"
      ],
      "id": "unexpected-answer",
      "execution_count": 13,
      "outputs": []
    },
    {
      "cell_type": "code",
      "metadata": {
        "id": "6euQ7FtMnW3M",
        "outputId": "e0901d94-961b-4821-8736-89c3cf491321",
        "colab": {
          "base_uri": "https://localhost:8080/",
          "height": 204
        }
      },
      "source": [
        "X_train_std.head()"
      ],
      "id": "6euQ7FtMnW3M",
      "execution_count": 14,
      "outputs": [
        {
          "output_type": "execute_result",
          "data": {
            "text/html": [
              "<div>\n",
              "<style scoped>\n",
              "    .dataframe tbody tr th:only-of-type {\n",
              "        vertical-align: middle;\n",
              "    }\n",
              "\n",
              "    .dataframe tbody tr th {\n",
              "        vertical-align: top;\n",
              "    }\n",
              "\n",
              "    .dataframe thead th {\n",
              "        text-align: right;\n",
              "    }\n",
              "</style>\n",
              "<table border=\"1\" class=\"dataframe\">\n",
              "  <thead>\n",
              "    <tr style=\"text-align: right;\">\n",
              "      <th></th>\n",
              "      <th>var1</th>\n",
              "      <th>var2</th>\n",
              "    </tr>\n",
              "  </thead>\n",
              "  <tbody>\n",
              "    <tr>\n",
              "      <th>3</th>\n",
              "      <td>0.564393</td>\n",
              "      <td>-1.182692</td>\n",
              "    </tr>\n",
              "    <tr>\n",
              "      <th>15</th>\n",
              "      <td>0.097778</td>\n",
              "      <td>1.166011</td>\n",
              "    </tr>\n",
              "    <tr>\n",
              "      <th>18</th>\n",
              "      <td>1.242976</td>\n",
              "      <td>1.343095</td>\n",
              "    </tr>\n",
              "    <tr>\n",
              "      <th>1</th>\n",
              "      <td>0.409811</td>\n",
              "      <td>-1.147833</td>\n",
              "    </tr>\n",
              "    <tr>\n",
              "      <th>5</th>\n",
              "      <td>-0.426365</td>\n",
              "      <td>-1.494563</td>\n",
              "    </tr>\n",
              "  </tbody>\n",
              "</table>\n",
              "</div>"
            ],
            "text/plain": [
              "        var1      var2\n",
              "3   0.564393 -1.182692\n",
              "15  0.097778  1.166011\n",
              "18  1.242976  1.343095\n",
              "1   0.409811 -1.147833\n",
              "5  -0.426365 -1.494563"
            ]
          },
          "metadata": {
            "tags": []
          },
          "execution_count": 14
        }
      ]
    },
    {
      "cell_type": "code",
      "metadata": {
        "id": "K5ZTxCbXnWra",
        "outputId": "a7eddcc5-79f9-40fe-d626-030e3c1ca02c",
        "colab": {
          "base_uri": "https://localhost:8080/",
          "height": 204
        }
      },
      "source": [
        "X_test_std.head()"
      ],
      "id": "K5ZTxCbXnWra",
      "execution_count": 15,
      "outputs": [
        {
          "output_type": "execute_result",
          "data": {
            "text/html": [
              "<div>\n",
              "<style scoped>\n",
              "    .dataframe tbody tr th:only-of-type {\n",
              "        vertical-align: middle;\n",
              "    }\n",
              "\n",
              "    .dataframe tbody tr th {\n",
              "        vertical-align: top;\n",
              "    }\n",
              "\n",
              "    .dataframe thead th {\n",
              "        text-align: right;\n",
              "    }\n",
              "</style>\n",
              "<table border=\"1\" class=\"dataframe\">\n",
              "  <thead>\n",
              "    <tr style=\"text-align: right;\">\n",
              "      <th></th>\n",
              "      <th>var1</th>\n",
              "      <th>var2</th>\n",
              "    </tr>\n",
              "  </thead>\n",
              "  <tbody>\n",
              "    <tr>\n",
              "      <th>19</th>\n",
              "      <td>1.084934</td>\n",
              "      <td>2.328746</td>\n",
              "    </tr>\n",
              "    <tr>\n",
              "      <th>9</th>\n",
              "      <td>-1.795374</td>\n",
              "      <td>-1.368444</td>\n",
              "    </tr>\n",
              "    <tr>\n",
              "      <th>7</th>\n",
              "      <td>-0.727679</td>\n",
              "      <td>0.841861</td>\n",
              "    </tr>\n",
              "    <tr>\n",
              "      <th>14</th>\n",
              "      <td>2.053842</td>\n",
              "      <td>-0.415030</td>\n",
              "    </tr>\n",
              "    <tr>\n",
              "      <th>6</th>\n",
              "      <td>0.071373</td>\n",
              "      <td>-1.433432</td>\n",
              "    </tr>\n",
              "  </tbody>\n",
              "</table>\n",
              "</div>"
            ],
            "text/plain": [
              "        var1      var2\n",
              "19  1.084934  2.328746\n",
              "9  -1.795374 -1.368444\n",
              "7  -0.727679  0.841861\n",
              "14  2.053842 -0.415030\n",
              "6   0.071373 -1.433432"
            ]
          },
          "metadata": {
            "tags": []
          },
          "execution_count": 15
        }
      ]
    },
    {
      "cell_type": "markdown",
      "metadata": {
        "id": "waiting-hawaiian"
      },
      "source": [
        "visualisieren wir unsere transformatierten Daten"
      ],
      "id": "waiting-hawaiian"
    },
    {
      "cell_type": "code",
      "metadata": {
        "id": "martial-system",
        "outputId": "362779f2-e71d-4c04-cb71-63fbdb6757a5",
        "colab": {
          "base_uri": "https://localhost:8080/",
          "height": 296
        }
      },
      "source": [
        "sns.scatterplot(data=X_train_std, x='var1', y='var2', hue=pd.Series(y_train))"
      ],
      "id": "martial-system",
      "execution_count": 16,
      "outputs": [
        {
          "output_type": "execute_result",
          "data": {
            "text/plain": [
              "<matplotlib.axes._subplots.AxesSubplot at 0x7f4e858e3950>"
            ]
          },
          "metadata": {
            "tags": []
          },
          "execution_count": 16
        },
        {
          "output_type": "display_data",
          "data": {
            "image/png": "[encoded data removed]",
            "text/plain": [
              "<Figure size 432x288 with 1 Axes>"
            ]
          },
          "metadata": {
            "tags": [],
            "needs_background": "light"
          }
        }
      ]
    },
    {
      "cell_type": "markdown",
      "metadata": {
        "id": "compatible-nutrition"
      },
      "source": [
        "trainieren wir ein Modell"
      ],
      "id": "compatible-nutrition"
    },
    {
      "cell_type": "code",
      "metadata": {
        "id": "strange-workshop"
      },
      "source": [
        "from sklearn.svm import SVC"
      ],
      "id": "strange-workshop",
      "execution_count": 17,
      "outputs": []
    },
    {
      "cell_type": "code",
      "metadata": {
        "id": "connected-monster"
      },
      "source": [
        "clf = SVC(kernel='linear')"
      ],
      "id": "connected-monster",
      "execution_count": 18,
      "outputs": []
    },
    {
      "cell_type": "code",
      "metadata": {
        "id": "fleet-payroll",
        "outputId": "da43421b-31c3-4295-e4b8-c4d5800f57a9",
        "colab": {
          "base_uri": "https://localhost:8080/"
        }
      },
      "source": [
        "clf.fit(X_train_std, y_train)"
      ],
      "id": "fleet-payroll",
      "execution_count": 19,
      "outputs": [
        {
          "output_type": "execute_result",
          "data": {
            "text/plain": [
              "SVC(C=1.0, break_ties=False, cache_size=200, class_weight=None, coef0=0.0,\n",
              "    decision_function_shape='ovr', degree=3, gamma='scale', kernel='linear',\n",
              "    max_iter=-1, probability=False, random_state=None, shrinking=True,\n",
              "    tol=0.001, verbose=False)"
            ]
          },
          "metadata": {
            "tags": []
          },
          "execution_count": 19
        }
      ]
    },
    {
      "cell_type": "markdown",
      "metadata": {
        "id": "generous-charm"
      },
      "source": [
        "Nun können wir Testdaten vorhersagen"
      ],
      "id": "generous-charm"
    },
    {
      "cell_type": "code",
      "metadata": {
        "id": "infinite-breakdown"
      },
      "source": [
        "y_pred = clf.predict(X_test_std)"
      ],
      "id": "infinite-breakdown",
      "execution_count": 20,
      "outputs": []
    },
    {
      "cell_type": "markdown",
      "metadata": {
        "id": "accepting-alert"
      },
      "source": [
        "evaluierung"
      ],
      "id": "accepting-alert"
    },
    {
      "cell_type": "code",
      "metadata": {
        "id": "shared-force"
      },
      "source": [
        "from sklearn.metrics import accuracy_score"
      ],
      "id": "shared-force",
      "execution_count": 21,
      "outputs": []
    },
    {
      "cell_type": "code",
      "metadata": {
        "id": "accessible-counter",
        "outputId": "e0f3af13-88af-4351-b898-3ebd6d255261",
        "colab": {
          "base_uri": "https://localhost:8080/"
        }
      },
      "source": [
        "accuracy_score(y_test, y_pred)"
      ],
      "id": "accessible-counter",
      "execution_count": 22,
      "outputs": [
        {
          "output_type": "execute_result",
          "data": {
            "text/plain": [
              "0.8"
            ]
          },
          "metadata": {
            "tags": []
          },
          "execution_count": 22
        }
      ]
    },
    {
      "cell_type": "code",
      "metadata": {
        "id": "brief-submission"
      },
      "source": [
        "from sklearn.metrics import plot_confusion_matrix"
      ],
      "id": "brief-submission",
      "execution_count": 23,
      "outputs": []
    },
    {
      "cell_type": "code",
      "metadata": {
        "id": "pending-blues",
        "outputId": "924b9765-77b6-4d07-d010-d2cd904b0a46",
        "colab": {
          "base_uri": "https://localhost:8080/",
          "height": 300
        }
      },
      "source": [
        "plot_confusion_matrix(clf, X_test_std, y_test)"
      ],
      "id": "pending-blues",
      "execution_count": 24,
      "outputs": [
        {
          "output_type": "execute_result",
          "data": {
            "text/plain": [
              "<sklearn.metrics._plot.confusion_matrix.ConfusionMatrixDisplay at 0x7f4e6e8c14d0>"
            ]
          },
          "metadata": {
            "tags": []
          },
          "execution_count": 24
        },
        {
          "output_type": "display_data",
          "data": {
            "image/png": "[encoded data removed]",
            "text/plain": [
              "<Figure size 432x288 with 2 Axes>"
            ]
          },
          "metadata": {
            "tags": [],
            "needs_background": "light"
          }
        }
      ]
    },
    {
      "cell_type": "code",
      "metadata": {
        "id": "saving-prague"
      },
      "source": [
        "from sklearn.model_selection import cross_val_score"
      ],
      "id": "saving-prague",
      "execution_count": 25,
      "outputs": []
    },
    {
      "cell_type": "code",
      "metadata": {
        "id": "amateur-medium"
      },
      "source": [
        "scores = cross_val_score(clf, X, y, cv=10, scoring='accuracy')"
      ],
      "id": "amateur-medium",
      "execution_count": 26,
      "outputs": []
    },
    {
      "cell_type": "code",
      "metadata": {
        "id": "tropical-savings",
        "outputId": "3adc981c-7523-4021-e4c8-469cc58108ba",
        "colab": {
          "base_uri": "https://localhost:8080/"
        }
      },
      "source": [
        "scores.mean()"
      ],
      "id": "tropical-savings",
      "execution_count": 27,
      "outputs": [
        {
          "output_type": "execute_result",
          "data": {
            "text/plain": [
              "0.9"
            ]
          },
          "metadata": {
            "tags": []
          },
          "execution_count": 27
        }
      ]
    },
    {
      "cell_type": "code",
      "metadata": {
        "id": "egyptian-sculpture"
      },
      "source": [
        "def run_ML_process(X, y, clf):\n",
        "    X_train, X_test, y_train, y_test = train_test_split(X, y, random_state=42, test_size=0.5, stratify=y) \n",
        "    \n",
        "    #scaling\n",
        "    scaler = StandardScaler()\n",
        "    scaler.fit(X_train)\n",
        "    X_train = pd.DataFrame(scaler.transform(X_train), index=X_train.index, columns=X_train.columns)\n",
        "    X_test = pd.DataFrame(scaler.transform(X_test), index=X_test.index, columns=X_test.columns)\n",
        "\n",
        "    plot_step = 0.02\n",
        "    x_min, x_max = X_train.iloc[:, 0].min() - 1, X_train.iloc[:, 0].max() + 1.2\n",
        "    y_min, y_max = X_train.iloc[:, 1].min() - 1, X_train.iloc[:, 1].max() + 1.2\n",
        "    xx, yy = np.meshgrid(\n",
        "        np.arange(x_min, x_max, plot_step), np.arange(y_min, y_max, plot_step)\n",
        "    )\n",
        "    \n",
        "    #Evaluation using a 10-fold CV\n",
        "    scores = cross_val_score(clf, X, y, cv=10, scoring = 'accuracy')\n",
        "    print('Averace Accuracy:', scores.mean())\n",
        "\n",
        "    clf.fit(X_train, y_train)\n",
        "    \n",
        "    fig, axs = plt.subplots(1,2, figsize = (15, 4))\n",
        "    #Plot confussion matrix\n",
        "    plot_confusion_matrix(clf, X_test, y_test, ax = axs[0])\n",
        "    \n",
        "    #Plot decisionfuctions and data points & predictions\n",
        "    Z = clf.predict(np.c_[xx.ravel(), yy.ravel()])\n",
        "    Z = Z.reshape(xx.shape)\n",
        "    plt.contourf(xx, yy, Z, alpha=0.25, cmap=ListedColormap(['grey','red']))\n",
        "    plt.scatter(X_train.iloc[:, 0], X_train.iloc[:, 1], alpha=0.25, c=y_train, cmap=ListedColormap(['grey','red']))\n",
        "    plt.scatter(X_test.iloc[:, 0], X_test.iloc[:, 1], alpha=0.25, c=y_test, cmap=ListedColormap(['grey','red']))\n",
        "    y_pred=clf.predict(X_test)\n",
        "    plt.scatter(X_test.iloc[:, 0], X_test.iloc[:, 1], c=y_pred, marker='x', s=10, cmap=ListedColormap(['grey','red']))"
      ],
      "id": "egyptian-sculpture",
      "execution_count": 28,
      "outputs": []
    },
    {
      "cell_type": "code",
      "metadata": {
        "id": "worst-omaha",
        "outputId": "b8cc925c-00cd-46bf-bd29-7f708a230af1",
        "colab": {
          "base_uri": "https://localhost:8080/",
          "height": 300
        }
      },
      "source": [
        "run_ML_process(X, y, SVC(kernel='linear'))"
      ],
      "id": "worst-omaha",
      "execution_count": 29,
      "outputs": [
        {
          "output_type": "stream",
          "text": [
            "Averace Accuracy: 0.9\n"
          ],
          "name": "stdout"
        },
        {
          "output_type": "display_data",
          "data": {
            "image/png": "[encoded data removed]",
            "text/plain": [
              "<Figure size 1080x288 with 3 Axes>"
            ]
          },
          "metadata": {
            "tags": [],
            "needs_background": "light"
          }
        }
      ]
    },
    {
      "cell_type": "markdown",
      "metadata": {
        "id": "closing-living"
      },
      "source": [
        "### Weitere Algorithmen"
      ],
      "id": "closing-living"
    },
    {
      "cell_type": "markdown",
      "metadata": {
        "id": "controlling-applicant"
      },
      "source": [
        "Logistischen Regression "
      ],
      "id": "controlling-applicant"
    },
    {
      "cell_type": "code",
      "metadata": {
        "id": "flexible-corpus"
      },
      "source": [
        "from sklearn.linear_model import LogisticRegression"
      ],
      "id": "flexible-corpus",
      "execution_count": 30,
      "outputs": []
    },
    {
      "cell_type": "code",
      "metadata": {
        "id": "french-inventory",
        "outputId": "bac6a32a-e5c3-4d72-fe13-e1bdd9ff0822",
        "colab": {
          "base_uri": "https://localhost:8080/",
          "height": 300
        }
      },
      "source": [
        "run_ML_process(X, y, LogisticRegression())"
      ],
      "id": "french-inventory",
      "execution_count": 31,
      "outputs": [
        {
          "output_type": "stream",
          "text": [
            "Averace Accuracy: 0.85\n"
          ],
          "name": "stdout"
        },
        {
          "output_type": "display_data",
          "data": {
            "image/png": "[encoded data removed]",
            "text/plain": [
              "<Figure size 1080x288 with 3 Axes>"
            ]
          },
          "metadata": {
            "tags": [],
            "needs_background": "light"
          }
        }
      ]
    },
    {
      "cell_type": "markdown",
      "metadata": {
        "id": "front-reduction"
      },
      "source": [
        "Naive Bayes"
      ],
      "id": "front-reduction"
    },
    {
      "cell_type": "code",
      "metadata": {
        "id": "opposed-timer"
      },
      "source": [
        "from sklearn.naive_bayes import GaussianNB"
      ],
      "id": "opposed-timer",
      "execution_count": 32,
      "outputs": []
    },
    {
      "cell_type": "code",
      "metadata": {
        "id": "incident-fantasy",
        "outputId": "2b2e4d2f-2d56-4395-aedd-57a21ae30184",
        "colab": {
          "base_uri": "https://localhost:8080/",
          "height": 300
        }
      },
      "source": [
        "run_ML_process(X, y, GaussianNB())"
      ],
      "id": "incident-fantasy",
      "execution_count": 33,
      "outputs": [
        {
          "output_type": "stream",
          "text": [
            "Averace Accuracy: 0.9\n"
          ],
          "name": "stdout"
        },
        {
          "output_type": "display_data",
          "data": {
            "image/png": "[encoded data removed]",
            "text/plain": [
              "<Figure size 1080x288 with 3 Axes>"
            ]
          },
          "metadata": {
            "tags": [],
            "needs_background": "light"
          }
        }
      ]
    },
    {
      "cell_type": "markdown",
      "metadata": {
        "id": "automotive-radiation"
      },
      "source": [
        "Support Vector Machine - SVM"
      ],
      "id": "automotive-radiation"
    },
    {
      "cell_type": "code",
      "metadata": {
        "id": "centered-floor"
      },
      "source": [
        "from sklearn.svm import SVC"
      ],
      "id": "centered-floor",
      "execution_count": 34,
      "outputs": []
    },
    {
      "cell_type": "code",
      "metadata": {
        "id": "through-concrete",
        "outputId": "629706ed-caed-4008-ca78-f4cc4be0a6fa",
        "colab": {
          "base_uri": "https://localhost:8080/",
          "height": 300
        }
      },
      "source": [
        "run_ML_process(X, y, SVC(kernel='linear'))"
      ],
      "id": "through-concrete",
      "execution_count": 35,
      "outputs": [
        {
          "output_type": "stream",
          "text": [
            "Averace Accuracy: 0.9\n"
          ],
          "name": "stdout"
        },
        {
          "output_type": "display_data",
          "data": {
            "image/png": "[encoded data removed]",
            "text/plain": [
              "<Figure size 1080x288 with 3 Axes>"
            ]
          },
          "metadata": {
            "tags": [],
            "needs_background": "light"
          }
        }
      ]
    },
    {
      "cell_type": "code",
      "metadata": {
        "id": "structural-check",
        "outputId": "acc4abfa-f2af-4ebd-acf1-386c467abe81",
        "colab": {
          "base_uri": "https://localhost:8080/",
          "height": 300
        }
      },
      "source": [
        "run_ML_process(X, y, SVC())"
      ],
      "id": "structural-check",
      "execution_count": 36,
      "outputs": [
        {
          "output_type": "stream",
          "text": [
            "Averace Accuracy: 0.85\n"
          ],
          "name": "stdout"
        },
        {
          "output_type": "display_data",
          "data": {
            "image/png": "[encoded data removed]",
            "text/plain": [
              "<Figure size 1080x288 with 3 Axes>"
            ]
          },
          "metadata": {
            "tags": [],
            "needs_background": "light"
          }
        }
      ]
    },
    {
      "cell_type": "markdown",
      "metadata": {
        "id": "limited-childhood"
      },
      "source": [
        "Entscheidungsbaum"
      ],
      "id": "limited-childhood"
    },
    {
      "cell_type": "code",
      "metadata": {
        "id": "interesting-thermal"
      },
      "source": [
        "from sklearn.tree import DecisionTreeClassifier"
      ],
      "id": "interesting-thermal",
      "execution_count": 37,
      "outputs": []
    },
    {
      "cell_type": "code",
      "metadata": {
        "id": "interpreted-advance",
        "outputId": "e0e91240-bba2-44a5-fd23-8db6edf54d21",
        "colab": {
          "base_uri": "https://localhost:8080/",
          "height": 300
        }
      },
      "source": [
        "run_ML_process(X, y, DecisionTreeClassifier())"
      ],
      "id": "interpreted-advance",
      "execution_count": 38,
      "outputs": [
        {
          "output_type": "stream",
          "text": [
            "Averace Accuracy: 0.85\n"
          ],
          "name": "stdout"
        },
        {
          "output_type": "display_data",
          "data": {
            "image/png": "[encoded data removed]",
            "text/plain": [
              "<Figure size 1080x288 with 3 Axes>"
            ]
          },
          "metadata": {
            "tags": [],
            "needs_background": "light"
          }
        }
      ]
    },
    {
      "cell_type": "markdown",
      "metadata": {
        "id": "usual-signal"
      },
      "source": [
        "Random Forest"
      ],
      "id": "usual-signal"
    },
    {
      "cell_type": "code",
      "metadata": {
        "id": "female-literacy"
      },
      "source": [
        "from sklearn.ensemble import RandomForestClassifier"
      ],
      "id": "female-literacy",
      "execution_count": 39,
      "outputs": []
    },
    {
      "cell_type": "code",
      "metadata": {
        "id": "southeast-reason",
        "outputId": "3c13d749-43e4-440b-b4dd-cd19e322845f",
        "colab": {
          "base_uri": "https://localhost:8080/",
          "height": 300
        }
      },
      "source": [
        "run_ML_process(X, y, RandomForestClassifier())"
      ],
      "id": "southeast-reason",
      "execution_count": 40,
      "outputs": [
        {
          "output_type": "stream",
          "text": [
            "Averace Accuracy: 0.95\n"
          ],
          "name": "stdout"
        },
        {
          "output_type": "display_data",
          "data": {
            "image/png": "[encoded data removed]",
            "text/plain": [
              "<Figure size 1080x288 with 3 Axes>"
            ]
          },
          "metadata": {
            "tags": [],
            "needs_background": "light"
          }
        }
      ]
    },
    {
      "cell_type": "markdown",
      "metadata": {
        "id": "urban-livestock"
      },
      "source": [
        "Boosting"
      ],
      "id": "urban-livestock"
    },
    {
      "cell_type": "code",
      "metadata": {
        "id": "determined-chain"
      },
      "source": [
        "from sklearn.ensemble import GradientBoostingClassifier"
      ],
      "id": "determined-chain",
      "execution_count": 41,
      "outputs": []
    },
    {
      "cell_type": "code",
      "metadata": {
        "id": "bottom-residence",
        "outputId": "e12fa90f-5bc0-496b-8868-f8c770c8500b",
        "colab": {
          "base_uri": "https://localhost:8080/",
          "height": 300
        }
      },
      "source": [
        "run_ML_process(X, y, GradientBoostingClassifier())"
      ],
      "id": "bottom-residence",
      "execution_count": 42,
      "outputs": [
        {
          "output_type": "stream",
          "text": [
            "Averace Accuracy: 0.85\n"
          ],
          "name": "stdout"
        },
        {
          "output_type": "display_data",
          "data": {
            "image/png": "[encoded data removed]",
            "text/plain": [
              "<Figure size 1080x288 with 3 Axes>"
            ]
          },
          "metadata": {
            "tags": [],
            "needs_background": "light"
          }
        }
      ]
    },
    {
      "cell_type": "markdown",
      "metadata": {
        "id": "completed-partnership"
      },
      "source": [
        "kNN - k-Nearest Neighbour"
      ],
      "id": "completed-partnership"
    },
    {
      "cell_type": "code",
      "metadata": {
        "id": "changing-safety"
      },
      "source": [
        "from sklearn.neighbors import KNeighborsClassifier"
      ],
      "id": "changing-safety",
      "execution_count": 43,
      "outputs": []
    },
    {
      "cell_type": "code",
      "metadata": {
        "id": "relevant-tunnel",
        "outputId": "19cfcab5-a35d-4526-c08d-9533c1ba8a19",
        "colab": {
          "base_uri": "https://localhost:8080/",
          "height": 300
        }
      },
      "source": [
        "run_ML_process(X, y, KNeighborsClassifier())"
      ],
      "id": "relevant-tunnel",
      "execution_count": 44,
      "outputs": [
        {
          "output_type": "stream",
          "text": [
            "Averace Accuracy: 0.8\n"
          ],
          "name": "stdout"
        },
        {
          "output_type": "display_data",
          "data": {
            "image/png": "[encoded data removed]",
            "text/plain": [
              "<Figure size 1080x288 with 3 Axes>"
            ]
          },
          "metadata": {
            "tags": [],
            "needs_background": "light"
          }
        }
      ]
    },
    {
      "cell_type": "markdown",
      "metadata": {
        "id": "comprehensive-investor"
      },
      "source": [
        "MLP - Multilayer Perceptron"
      ],
      "id": "comprehensive-investor"
    },
    {
      "cell_type": "code",
      "metadata": {
        "id": "physical-transfer"
      },
      "source": [
        "from sklearn.neural_network import MLPClassifier"
      ],
      "id": "physical-transfer",
      "execution_count": 45,
      "outputs": []
    },
    {
      "cell_type": "code",
      "metadata": {
        "id": "differential-external",
        "outputId": "eacdd5b5-7434-4f27-f83f-7f20ab832f75",
        "colab": {
          "base_uri": "https://localhost:8080/",
          "height": 490
        }
      },
      "source": [
        "run_ML_process(X, y, MLPClassifier(max_iter=1000))"
      ],
      "id": "differential-external",
      "execution_count": 46,
      "outputs": [
        {
          "output_type": "stream",
          "text": [
            "/usr/local/lib/python3.7/dist-packages/sklearn/neural_network/_multilayer_perceptron.py:571: ConvergenceWarning: Stochastic Optimizer: Maximum iterations (1000) reached and the optimization hasn't converged yet.\n",
            "  % self.max_iter, ConvergenceWarning)\n",
            "/usr/local/lib/python3.7/dist-packages/sklearn/neural_network/_multilayer_perceptron.py:571: ConvergenceWarning: Stochastic Optimizer: Maximum iterations (1000) reached and the optimization hasn't converged yet.\n",
            "  % self.max_iter, ConvergenceWarning)\n",
            "/usr/local/lib/python3.7/dist-packages/sklearn/neural_network/_multilayer_perceptron.py:571: ConvergenceWarning: Stochastic Optimizer: Maximum iterations (1000) reached and the optimization hasn't converged yet.\n",
            "  % self.max_iter, ConvergenceWarning)\n",
            "/usr/local/lib/python3.7/dist-packages/sklearn/neural_network/_multilayer_perceptron.py:571: ConvergenceWarning: Stochastic Optimizer: Maximum iterations (1000) reached and the optimization hasn't converged yet.\n",
            "  % self.max_iter, ConvergenceWarning)\n",
            "/usr/local/lib/python3.7/dist-packages/sklearn/neural_network/_multilayer_perceptron.py:571: ConvergenceWarning: Stochastic Optimizer: Maximum iterations (1000) reached and the optimization hasn't converged yet.\n",
            "  % self.max_iter, ConvergenceWarning)\n"
          ],
          "name": "stderr"
        },
        {
          "output_type": "stream",
          "text": [
            "Averace Accuracy: 0.9\n"
          ],
          "name": "stdout"
        },
        {
          "output_type": "display_data",
          "data": {
            "image/png": "[encoded data removed]",
            "text/plain": [
              "<Figure size 1080x288 with 3 Axes>"
            ]
          },
          "metadata": {
            "tags": [],
            "needs_background": "light"
          }
        }
      ]
    },
    {
      "cell_type": "code",
      "metadata": {
        "id": "annual-morrison"
      },
      "source": [
        ""
      ],
      "id": "annual-morrison",
      "execution_count": null,
      "outputs": []
    }
  ]
}