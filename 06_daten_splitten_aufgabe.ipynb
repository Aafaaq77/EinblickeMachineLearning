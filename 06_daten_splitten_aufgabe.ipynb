{
 "cells": [
  {
   "cell_type": "markdown",
   "id": "opened-anchor",
   "metadata": {},
   "source": [
    "### Aufgabe Data Splitting"
   ]
  },
  {
   "cell_type": "markdown",
   "id": "spectacular-edwards",
   "metadata": {},
   "source": [
    "In dieser Übung lernen wir, wie sich verschiedene Data splitting Methoden verhalten anhand des iris Datensatzes."
   ]
  },
  {
   "cell_type": "markdown",
   "id": "african-passing",
   "metadata": {},
   "source": [
    "##### Data Splitting am iris-Datensatz"
   ]
  },
  {
   "cell_type": "code",
   "execution_count": 1,
   "id": "alert-purchase",
   "metadata": {},
   "outputs": [],
   "source": [
    "import numpy as np\n",
    "from sklearn import datasets\n",
    "from sklearn import svm"
   ]
  },
  {
   "cell_type": "code",
   "execution_count": 2,
   "id": "favorite-token",
   "metadata": {},
   "outputs": [],
   "source": [
    "import pandas as pd"
   ]
  },
  {
   "cell_type": "code",
   "execution_count": 3,
   "id": "fitting-simpson",
   "metadata": {},
   "outputs": [],
   "source": [
    "?datasets.load_iris"
   ]
  },
  {
   "cell_type": "code",
   "execution_count": 4,
   "id": "compact-motor",
   "metadata": {},
   "outputs": [],
   "source": [
    "X, y = datasets.load_iris(return_X_y=True)"
   ]
  },
  {
   "cell_type": "code",
   "execution_count": 5,
   "id": "departmental-joyce",
   "metadata": {},
   "outputs": [
    {
     "data": {
      "text/plain": [
       "((150, 4), (150,))"
      ]
     },
     "execution_count": 5,
     "metadata": {},
     "output_type": "execute_result"
    }
   ],
   "source": [
    "X.shape, y.shape"
   ]
  },
  {
   "cell_type": "markdown",
   "id": "recorded-newton",
   "metadata": {},
   "source": [
    "##### Aufgabe 1"
   ]
  },
  {
   "cell_type": "code",
   "execution_count": 6,
   "id": "competent-botswana",
   "metadata": {},
   "outputs": [],
   "source": [
    "from sklearn.model_selection import train_test_split"
   ]
  },
  {
   "cell_type": "markdown",
   "id": "dependent-toyota",
   "metadata": {},
   "source": [
    "Teilen Sie die Daten anhand der train_test_split-Funktion"
   ]
  },
  {
   "cell_type": "code",
   "execution_count": 7,
   "id": "cloudy-membership",
   "metadata": {},
   "outputs": [],
   "source": [
    "?train_test_split"
   ]
  },
  {
   "cell_type": "code",
   "execution_count": 8,
   "id": "ruled-alexandria",
   "metadata": {},
   "outputs": [],
   "source": [
    "X_train, X_test, y_train, y_test = train_test_split(X, y)"
   ]
  },
  {
   "cell_type": "markdown",
   "id": "based-semiconductor",
   "metadata": {},
   "source": [
    "Führen Sie im Anschluss die folgenden beiden Zellen aus"
   ]
  },
  {
   "cell_type": "code",
   "execution_count": 9,
   "id": "expected-printing",
   "metadata": {},
   "outputs": [],
   "source": [
    "clf = svm.SVC(kernel='linear', C=1).fit(X_train, y_train)"
   ]
  },
  {
   "cell_type": "code",
   "execution_count": 10,
   "id": "dirty-bookmark",
   "metadata": {},
   "outputs": [
    {
     "data": {
      "text/plain": [
       "1.0"
      ]
     },
     "execution_count": 10,
     "metadata": {},
     "output_type": "execute_result"
    }
   ],
   "source": [
    "clf.score(X_test, y_test)"
   ]
  },
  {
   "cell_type": "markdown",
   "id": "bright-marriage",
   "metadata": {},
   "source": [
    "Testen Sie verschiedene random_states: vergleichen Sie den Score"
   ]
  },
  {
   "cell_type": "code",
   "execution_count": 11,
   "id": "assisted-school",
   "metadata": {},
   "outputs": [],
   "source": [
    "#code"
   ]
  },
  {
   "cell_type": "markdown",
   "id": "dried-semiconductor",
   "metadata": {},
   "source": [
    "Testen Sie verschiedene test_size: betrachten Sie die Größe der Train- und Testdatensätze "
   ]
  },
  {
   "cell_type": "code",
   "execution_count": 32,
   "id": "egyptian-fruit",
   "metadata": {},
   "outputs": [],
   "source": [
    "#code"
   ]
  },
  {
   "cell_type": "markdown",
   "id": "alpha-agency",
   "metadata": {},
   "source": [
    "Testen Sie das Ergebnis für shuffle = False und einer test_size von 0.3"
   ]
  },
  {
   "cell_type": "code",
   "execution_count": 36,
   "id": "empirical-approval",
   "metadata": {},
   "outputs": [],
   "source": [
    "#code"
   ]
  },
  {
   "cell_type": "markdown",
   "id": "powered-popularity",
   "metadata": {},
   "source": [
    "##### Aufgabe 2"
   ]
  },
  {
   "cell_type": "code",
   "execution_count": 43,
   "id": "biblical-funds",
   "metadata": {},
   "outputs": [],
   "source": [
    "from sklearn.model_selection import cross_val_score"
   ]
  },
  {
   "cell_type": "code",
   "execution_count": 44,
   "id": "unlike-suite",
   "metadata": {},
   "outputs": [],
   "source": [
    "clf = svm.SVC(kernel='linear', C=1, random_state=42)"
   ]
  },
  {
   "cell_type": "markdown",
   "id": "different-receptor",
   "metadata": {},
   "source": [
    "Teilen Sie die Daten anhand der cross_val_score-Funktion mit cv = 10, nutzen Sie den Classifier der vorherigen Spalte"
   ]
  },
  {
   "cell_type": "code",
   "execution_count": null,
   "id": "infinite-communications",
   "metadata": {},
   "outputs": [],
   "source": [
    "#code"
   ]
  },
  {
   "cell_type": "markdown",
   "id": "sized-merchant",
   "metadata": {},
   "source": [
    "Berechnen Sie den mittleren Score. Führen Sie die Code-Zeilen mehrmals aus und betrachten den mittleren Score."
   ]
  },
  {
   "cell_type": "code",
   "execution_count": 12,
   "id": "informative-metallic",
   "metadata": {},
   "outputs": [],
   "source": [
    "#code"
   ]
  },
  {
   "cell_type": "markdown",
   "id": "coastal-worst",
   "metadata": {},
   "source": [
    "Bonus: Erstellen Sie einen LeaveOneOut und übergeben Sie es cv. Wie sehen die Scores aus? Wie der mittlere Score?"
   ]
  },
  {
   "cell_type": "code",
   "execution_count": null,
   "id": "lyric-scroll",
   "metadata": {},
   "outputs": [],
   "source": [
    "#code"
   ]
  },
  {
   "cell_type": "code",
   "execution_count": null,
   "id": "small-passion",
   "metadata": {},
   "outputs": [],
   "source": []
  }
 ],
 "metadata": {
  "kernelspec": {
   "display_name": "Python 3",
   "language": "python",
   "name": "python3"
  },
  "language_info": {
   "codemirror_mode": {
    "name": "ipython",
    "version": 3
   },
   "file_extension": ".py",
   "mimetype": "text/x-python",
   "name": "python",
   "nbconvert_exporter": "python",
   "pygments_lexer": "ipython3",
   "version": "3.8.8"
  }
 },
 "nbformat": 4,
 "nbformat_minor": 5
}
