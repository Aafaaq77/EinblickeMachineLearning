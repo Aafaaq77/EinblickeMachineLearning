{
  "nbformat": 4,
  "nbformat_minor": 5,
  "metadata": {
    "kernelspec": {
      "display_name": "Python 3",
      "language": "python",
      "name": "python3"
    },
    "language_info": {
      "codemirror_mode": {
        "name": "ipython",
        "version": 3
      },
      "file_extension": ".py",
      "mimetype": "text/x-python",
      "name": "python",
      "nbconvert_exporter": "python",
      "pygments_lexer": "ipython3",
      "version": "3.8.8"
    },
    "colab": {
      "name": "06_daten_splitten_aufgabe.ipynb",
      "provenance": []
    }
  },
  "cells": [
    {
      "cell_type": "markdown",
      "metadata": {
        "id": "opened-anchor"
      },
      "source": [
        "### Aufgabe Data Splitting"
      ],
      "id": "opened-anchor"
    },
    {
      "cell_type": "markdown",
      "metadata": {
        "id": "spectacular-edwards"
      },
      "source": [
        "In dieser Übung lernen wir, wie sich verschiedene Data splitting Methoden verhalten anhand des iris Datensatzes."
      ],
      "id": "spectacular-edwards"
    },
    {
      "cell_type": "markdown",
      "metadata": {
        "id": "african-passing"
      },
      "source": [
        "##### Data Splitting am iris-Datensatz"
      ],
      "id": "african-passing"
    },
    {
      "cell_type": "code",
      "metadata": {
        "id": "alert-purchase"
      },
      "source": [
        "import numpy as np\n",
        "from sklearn import datasets\n",
        "from sklearn import svm"
      ],
      "id": "alert-purchase",
      "execution_count": 1,
      "outputs": []
    },
    {
      "cell_type": "code",
      "metadata": {
        "id": "favorite-token"
      },
      "source": [
        "import pandas as pd"
      ],
      "id": "favorite-token",
      "execution_count": 2,
      "outputs": []
    },
    {
      "cell_type": "code",
      "metadata": {
        "id": "fitting-simpson"
      },
      "source": [
        "?datasets.load_iris"
      ],
      "id": "fitting-simpson",
      "execution_count": 3,
      "outputs": []
    },
    {
      "cell_type": "code",
      "metadata": {
        "id": "compact-motor"
      },
      "source": [
        "X, y = datasets.load_iris(return_X_y=True)"
      ],
      "id": "compact-motor",
      "execution_count": 4,
      "outputs": []
    },
    {
      "cell_type": "code",
      "metadata": {
        "id": "departmental-joyce",
        "outputId": "8ae79b02-8c4d-4a9b-a5a3-027bbefb739f",
        "colab": {
          "base_uri": "https://localhost:8080/"
        }
      },
      "source": [
        "X.shape, y.shape"
      ],
      "id": "departmental-joyce",
      "execution_count": 5,
      "outputs": [
        {
          "output_type": "execute_result",
          "data": {
            "text/plain": [
              "((150, 4), (150,))"
            ]
          },
          "metadata": {
            "tags": []
          },
          "execution_count": 5
        }
      ]
    },
    {
      "cell_type": "markdown",
      "metadata": {
        "id": "recorded-newton"
      },
      "source": [
        "##### Aufgabe 1"
      ],
      "id": "recorded-newton"
    },
    {
      "cell_type": "code",
      "metadata": {
        "id": "competent-botswana"
      },
      "source": [
        "from sklearn.model_selection import train_test_split"
      ],
      "id": "competent-botswana",
      "execution_count": 7,
      "outputs": []
    },
    {
      "cell_type": "markdown",
      "metadata": {
        "id": "dependent-toyota"
      },
      "source": [
        "Teilen Sie die Daten anhand der train_test_split-Funktion"
      ],
      "id": "dependent-toyota"
    },
    {
      "cell_type": "code",
      "metadata": {
        "id": "cloudy-membership"
      },
      "source": [
        "?train_test_split"
      ],
      "id": "cloudy-membership",
      "execution_count": 8,
      "outputs": []
    },
    {
      "cell_type": "code",
      "metadata": {
        "id": "ruled-alexandria"
      },
      "source": [
        "X_train, X_test, y_train, y_test = train_test_split(X, y)"
      ],
      "id": "ruled-alexandria",
      "execution_count": 9,
      "outputs": []
    },
    {
      "cell_type": "markdown",
      "metadata": {
        "id": "based-semiconductor"
      },
      "source": [
        "Führen Sie im Anschluss die folgenden beiden Zellen aus"
      ],
      "id": "based-semiconductor"
    },
    {
      "cell_type": "code",
      "metadata": {
        "id": "expected-printing"
      },
      "source": [
        "clf = svm.SVC(kernel='linear', C=1).fit(X_train, y_train)"
      ],
      "id": "expected-printing",
      "execution_count": 10,
      "outputs": []
    },
    {
      "cell_type": "code",
      "metadata": {
        "id": "dirty-bookmark",
        "outputId": "133ab382-28e4-47d0-c7ff-1927aacbb953",
        "colab": {
          "base_uri": "https://localhost:8080/"
        }
      },
      "source": [
        "clf.score(X_test, y_test)"
      ],
      "id": "dirty-bookmark",
      "execution_count": 11,
      "outputs": [
        {
          "output_type": "execute_result",
          "data": {
            "text/plain": [
              "1.0"
            ]
          },
          "metadata": {
            "tags": []
          },
          "execution_count": 11
        }
      ]
    },
    {
      "cell_type": "markdown",
      "metadata": {
        "id": "bright-marriage"
      },
      "source": [
        "Testen Sie verschiedene random_states: vergleichen Sie den Score"
      ],
      "id": "bright-marriage"
    },
    {
      "cell_type": "code",
      "metadata": {
        "id": "assisted-school",
        "outputId": "6b6b30f5-f6b9-4c2f-fa0c-78529c84608a",
        "colab": {
          "base_uri": "https://localhost:8080/"
        }
      },
      "source": [
        "r_s = 0\n",
        "X_train, X_test, y_train, y_test = train_test_split(X, y, random_state=r_s)\n",
        "clf = svm.SVC(kernel='linear', C=1).fit(X_train, y_train)\n",
        "clf.score(X_test, y_test)"
      ],
      "id": "assisted-school",
      "execution_count": 12,
      "outputs": [
        {
          "output_type": "execute_result",
          "data": {
            "text/plain": [
              "0.9736842105263158"
            ]
          },
          "metadata": {
            "tags": []
          },
          "execution_count": 12
        }
      ]
    },
    {
      "cell_type": "code",
      "metadata": {
        "id": "Xkpt7s4jgegp",
        "outputId": "7f91e982-e465-4969-d708-02a997d43586",
        "colab": {
          "base_uri": "https://localhost:8080/"
        }
      },
      "source": [
        "r_s = 4\n",
        "X_train, X_test, y_train, y_test = train_test_split(X, y, random_state=r_s)\n",
        "clf = svm.SVC(kernel='linear', C=1).fit(X_train, y_train)\n",
        "clf.score(X_test, y_test)"
      ],
      "id": "Xkpt7s4jgegp",
      "execution_count": 14,
      "outputs": [
        {
          "output_type": "execute_result",
          "data": {
            "text/plain": [
              "0.9736842105263158"
            ]
          },
          "metadata": {
            "tags": []
          },
          "execution_count": 14
        }
      ]
    },
    {
      "cell_type": "code",
      "metadata": {
        "id": "_DFx5h4kgeX3",
        "outputId": "03130ab4-1c6a-4a4a-f231-de72923f662e",
        "colab": {
          "base_uri": "https://localhost:8080/"
        }
      },
      "source": [
        "r_s = 10\n",
        "X_train, X_test, y_train, y_test = train_test_split(X, y, random_state=r_s)\n",
        "clf = svm.SVC(kernel='linear', C=1).fit(X_train, y_train)\n",
        "clf.score(X_test, y_test)"
      ],
      "id": "_DFx5h4kgeX3",
      "execution_count": 15,
      "outputs": [
        {
          "output_type": "execute_result",
          "data": {
            "text/plain": [
              "1.0"
            ]
          },
          "metadata": {
            "tags": []
          },
          "execution_count": 15
        }
      ]
    },
    {
      "cell_type": "code",
      "metadata": {
        "id": "FdXWmx_jgeMB",
        "outputId": "9628a096-7323-4b34-9e18-1553fd440baa",
        "colab": {
          "base_uri": "https://localhost:8080/"
        }
      },
      "source": [
        "r_s = 42\n",
        "X_train, X_test, y_train, y_test = train_test_split(X, y, random_state=r_s)\n",
        "clf = svm.SVC(kernel='linear', C=1).fit(X_train, y_train)\n",
        "clf.score(X_test, y_test)"
      ],
      "id": "FdXWmx_jgeMB",
      "execution_count": 16,
      "outputs": [
        {
          "output_type": "execute_result",
          "data": {
            "text/plain": [
              "1.0"
            ]
          },
          "metadata": {
            "tags": []
          },
          "execution_count": 16
        }
      ]
    },
    {
      "cell_type": "markdown",
      "metadata": {
        "id": "dried-semiconductor"
      },
      "source": [
        "Testen Sie verschiedene test_size: betrachten Sie die Größe der Train- und Testdatensätze "
      ],
      "id": "dried-semiconductor"
    },
    {
      "cell_type": "code",
      "metadata": {
        "id": "egyptian-fruit",
        "outputId": "1a68df7c-3028-4e38-f88e-42ac3e31776b",
        "colab": {
          "base_uri": "https://localhost:8080/"
        }
      },
      "source": [
        "tst_size = 0.25\n",
        "X_train, X_test, y_train, y_test = train_test_split(X, y, test_size=tst_size)\n",
        "clf = svm.SVC(kernel='linear', C=1).fit(X_train, y_train)\n",
        "print(X_train.shape, X_test.shape, y_train.shape, y_test.shape)\n",
        "clf.score(X_test, y_test)"
      ],
      "id": "egyptian-fruit",
      "execution_count": 17,
      "outputs": [
        {
          "output_type": "stream",
          "text": [
            "(112, 4) (38, 4) (112,) (38,)\n"
          ],
          "name": "stdout"
        },
        {
          "output_type": "execute_result",
          "data": {
            "text/plain": [
              "1.0"
            ]
          },
          "metadata": {
            "tags": []
          },
          "execution_count": 17
        }
      ]
    },
    {
      "cell_type": "code",
      "metadata": {
        "id": "66MnCMhFh01c",
        "outputId": "08a139aa-8d94-43ff-8092-44da33ffe8f0",
        "colab": {
          "base_uri": "https://localhost:8080/"
        }
      },
      "source": [
        "tst_size = 0.45\n",
        "X_train, X_test, y_train, y_test = train_test_split(X, y, test_size=tst_size)\n",
        "clf = svm.SVC(kernel='linear', C=1).fit(X_train, y_train)\n",
        "print(X_train.shape, X_test.shape, y_train.shape, y_test.shape)\n",
        "clf.score(X_test, y_test)"
      ],
      "id": "66MnCMhFh01c",
      "execution_count": 18,
      "outputs": [
        {
          "output_type": "stream",
          "text": [
            "(82, 4) (68, 4) (82,) (68,)\n"
          ],
          "name": "stdout"
        },
        {
          "output_type": "execute_result",
          "data": {
            "text/plain": [
              "0.9705882352941176"
            ]
          },
          "metadata": {
            "tags": []
          },
          "execution_count": 18
        }
      ]
    },
    {
      "cell_type": "code",
      "metadata": {
        "id": "i5kaZICKh0oL",
        "outputId": "2bdcbe1e-6ce5-4990-f9b9-55e4d238a505",
        "colab": {
          "base_uri": "https://localhost:8080/"
        }
      },
      "source": [
        "tst_size = 0.55\n",
        "X_train, X_test, y_train, y_test = train_test_split(X, y, test_size=tst_size)\n",
        "clf = svm.SVC(kernel='linear', C=1).fit(X_train, y_train)\n",
        "print(X_train.shape, X_test.shape, y_train.shape, y_test.shape)\n",
        "clf.score(X_test, y_test)"
      ],
      "id": "i5kaZICKh0oL",
      "execution_count": 19,
      "outputs": [
        {
          "output_type": "stream",
          "text": [
            "(67, 4) (83, 4) (67,) (83,)\n"
          ],
          "name": "stdout"
        },
        {
          "output_type": "execute_result",
          "data": {
            "text/plain": [
              "0.9518072289156626"
            ]
          },
          "metadata": {
            "tags": []
          },
          "execution_count": 19
        }
      ]
    },
    {
      "cell_type": "code",
      "metadata": {
        "id": "a7AIPuGbh0kF",
        "outputId": "9a89e1cb-cde0-401c-b415-6b2226c40b0e",
        "colab": {
          "base_uri": "https://localhost:8080/"
        }
      },
      "source": [
        "tst_size = 0.08\n",
        "X_train, X_test, y_train, y_test = train_test_split(X, y, test_size=tst_size)\n",
        "clf = svm.SVC(kernel='linear', C=1).fit(X_train, y_train)\n",
        "print(X_train.shape, X_test.shape, y_train.shape, y_test.shape)\n",
        "clf.score(X_test, y_test)"
      ],
      "id": "a7AIPuGbh0kF",
      "execution_count": 20,
      "outputs": [
        {
          "output_type": "stream",
          "text": [
            "(138, 4) (12, 4) (138,) (12,)\n"
          ],
          "name": "stdout"
        },
        {
          "output_type": "execute_result",
          "data": {
            "text/plain": [
              "1.0"
            ]
          },
          "metadata": {
            "tags": []
          },
          "execution_count": 20
        }
      ]
    },
    {
      "cell_type": "markdown",
      "metadata": {
        "id": "alpha-agency"
      },
      "source": [
        "Testen Sie das Ergebnis für shuffle = False und einer test_size von 0.3"
      ],
      "id": "alpha-agency"
    },
    {
      "cell_type": "code",
      "metadata": {
        "id": "empirical-approval",
        "outputId": "02c1001c-333c-45e2-d60c-e2cece64075a",
        "colab": {
          "base_uri": "https://localhost:8080/"
        }
      },
      "source": [
        "tst_size = 0.3\n",
        "X_train, X_test, y_train, y_test = train_test_split(X, y, test_size=tst_size, shuffle=False)\n",
        "clf = svm.SVC(kernel='linear', C=1).fit(X_train, y_train)\n",
        "\n",
        "clf.score(X_test, y_test)"
      ],
      "id": "empirical-approval",
      "execution_count": 21,
      "outputs": [
        {
          "output_type": "execute_result",
          "data": {
            "text/plain": [
              "0.6444444444444445"
            ]
          },
          "metadata": {
            "tags": []
          },
          "execution_count": 21
        }
      ]
    },
    {
      "cell_type": "markdown",
      "metadata": {
        "id": "powered-popularity"
      },
      "source": [
        "##### Aufgabe 2"
      ],
      "id": "powered-popularity"
    },
    {
      "cell_type": "code",
      "metadata": {
        "id": "biblical-funds"
      },
      "source": [
        "from sklearn.model_selection import cross_val_score"
      ],
      "id": "biblical-funds",
      "execution_count": 22,
      "outputs": []
    },
    {
      "cell_type": "code",
      "metadata": {
        "id": "unlike-suite"
      },
      "source": [
        "clf = svm.SVC(kernel='linear', C=1, random_state=42)"
      ],
      "id": "unlike-suite",
      "execution_count": 23,
      "outputs": []
    },
    {
      "cell_type": "markdown",
      "metadata": {
        "id": "different-receptor"
      },
      "source": [
        "Teilen Sie die Daten anhand der cross_val_score-Funktion mit cv = 10, nutzen Sie den Classifier der vorherigen Spalte"
      ],
      "id": "different-receptor"
    },
    {
      "cell_type": "code",
      "metadata": {
        "id": "infinite-communications"
      },
      "source": [
        "scores = cross_val_score(clf, X, y, cv=10)"
      ],
      "id": "infinite-communications",
      "execution_count": 24,
      "outputs": []
    },
    {
      "cell_type": "markdown",
      "metadata": {
        "id": "sized-merchant"
      },
      "source": [
        "Berechnen Sie den mittleren Score. Führen Sie die Code-Zeilen mehrmals aus und betrachten den mittleren Score."
      ],
      "id": "sized-merchant"
    },
    {
      "cell_type": "code",
      "metadata": {
        "id": "informative-metallic",
        "outputId": "e0475dd4-2aed-470d-feb0-6afe89ddd615",
        "colab": {
          "base_uri": "https://localhost:8080/"
        }
      },
      "source": [
        "print(f'scores: {scores}, mean: {scores.mean()}')"
      ],
      "id": "informative-metallic",
      "execution_count": 25,
      "outputs": [
        {
          "output_type": "stream",
          "text": [
            "scores: [1.         0.93333333 1.         1.         0.86666667 1.\n",
            " 0.93333333 1.         1.         1.        ], mean: 0.9733333333333334\n"
          ],
          "name": "stdout"
        }
      ]
    },
    {
      "cell_type": "markdown",
      "metadata": {
        "id": "coastal-worst"
      },
      "source": [
        "Bonus: Erstellen Sie einen LeaveOneOut und übergeben Sie es cv. Wie sehen die Scores aus? Wie der mittlere Score?"
      ],
      "id": "coastal-worst"
    },
    {
      "cell_type": "code",
      "metadata": {
        "id": "lyric-scroll"
      },
      "source": [
        "from sklearn.model_selection import LeaveOneOut"
      ],
      "id": "lyric-scroll",
      "execution_count": 26,
      "outputs": []
    },
    {
      "cell_type": "code",
      "metadata": {
        "id": "small-passion"
      },
      "source": [
        "l_one_out = LeaveOneOut()"
      ],
      "id": "small-passion",
      "execution_count": 27,
      "outputs": []
    },
    {
      "cell_type": "code",
      "metadata": {
        "id": "yDEiKL6jljdO"
      },
      "source": [
        "scores = cross_val_score(clf, X, y, cv=l_one_out)"
      ],
      "id": "yDEiKL6jljdO",
      "execution_count": 28,
      "outputs": []
    },
    {
      "cell_type": "code",
      "metadata": {
        "id": "Q0VZWRtzlltl",
        "outputId": "dbde1930-dc87-486b-f213-d9bfba960294",
        "colab": {
          "base_uri": "https://localhost:8080/"
        }
      },
      "source": [
        "scores"
      ],
      "id": "Q0VZWRtzlltl",
      "execution_count": 29,
      "outputs": [
        {
          "output_type": "execute_result",
          "data": {
            "text/plain": [
              "array([1., 1., 1., 1., 1., 1., 1., 1., 1., 1., 1., 1., 1., 1., 1., 1., 1.,\n",
              "       1., 1., 1., 1., 1., 1., 1., 1., 1., 1., 1., 1., 1., 1., 1., 1., 1.,\n",
              "       1., 1., 1., 1., 1., 1., 1., 1., 1., 1., 1., 1., 1., 1., 1., 1., 1.,\n",
              "       1., 1., 1., 1., 1., 1., 1., 1., 1., 1., 1., 1., 1., 1., 1., 1., 1.,\n",
              "       1., 1., 0., 1., 0., 1., 1., 1., 1., 1., 1., 1., 1., 1., 1., 0., 1.,\n",
              "       1., 1., 1., 1., 1., 1., 1., 1., 1., 1., 1., 1., 1., 1., 1., 1., 1.,\n",
              "       1., 1., 1., 1., 1., 1., 1., 1., 1., 1., 1., 1., 1., 1., 1., 1., 1.,\n",
              "       1., 1., 1., 1., 1., 1., 1., 1., 1., 1., 1., 1., 1., 1., 1., 1., 1.,\n",
              "       1., 1., 1., 1., 1., 1., 1., 1., 1., 1., 1., 1., 1., 1.])"
            ]
          },
          "metadata": {
            "tags": []
          },
          "execution_count": 29
        }
      ]
    },
    {
      "cell_type": "code",
      "metadata": {
        "id": "09P_-tVflm5_",
        "outputId": "41a38bbe-ac70-4b24-9e0c-ada689912b0d",
        "colab": {
          "base_uri": "https://localhost:8080/"
        }
      },
      "source": [
        "scores.mean()"
      ],
      "id": "09P_-tVflm5_",
      "execution_count": 30,
      "outputs": [
        {
          "output_type": "execute_result",
          "data": {
            "text/plain": [
              "0.98"
            ]
          },
          "metadata": {
            "tags": []
          },
          "execution_count": 30
        }
      ]
    },
    {
      "cell_type": "code",
      "metadata": {
        "id": "hkvLqjQjlqME"
      },
      "source": [
        ""
      ],
      "id": "hkvLqjQjlqME",
      "execution_count": null,
      "outputs": []
    }
  ]
}